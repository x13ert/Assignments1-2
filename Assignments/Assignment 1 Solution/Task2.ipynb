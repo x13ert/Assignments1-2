{
 "cells": [
  {
   "cell_type": "code",
   "execution_count": null,
   "id": "ac0cb981",
   "metadata": {},
   "outputs": [],
   "source": [
    "# Code here - Import BeautifulSoup library\n",
    "from bs4 import BeautifulSoup\n",
    "# Code ends here"
   ]
  },
  {
   "cell_type": "code",
   "execution_count": null,
   "id": "397925f3",
   "metadata": {},
   "outputs": [],
   "source": [
    "# Code here - Ask the user to input \"Enter url of a medium article: \" and collect it in url\n",
    "url = input(\"Enter url of a medium article: \")\n",
    "# Code ends here"
   ]
  },
  {
   "cell_type": "code",
   "execution_count": null,
   "id": "dcaae9af",
   "metadata": {},
   "outputs": [],
   "source": [
    "# Code here - Call get method in requests object, pass url and collect it in res\n",
    "res = requests.get(url)\n",
    "# Code ends here"
   ]
  },
  {
   "cell_type": "code",
   "execution_count": null,
   "id": "f554357c",
   "metadata": {},
   "outputs": [],
   "source": [
    "# Code here - write a file using with (2 lines)\n",
    "with open(os.path.join(\"./scraped_articles\", name + \".txt\"), 'w', encoding='utf-8') as output:\n",
    "    output.write(clean(text))\n",
    "# Code ends here"
   ]
  }
 ],
 "metadata": {
  "kernelspec": {
   "display_name": "Python 3 (ipykernel)",
   "language": "python",
   "name": "python3"
  },
  "language_info": {
   "codemirror_mode": {
    "name": "ipython",
    "version": 3
   },
   "file_extension": ".py",
   "mimetype": "text/x-python",
   "name": "python",
   "nbconvert_exporter": "python",
   "pygments_lexer": "ipython3",
   "version": "3.8.11"
  }
 },
 "nbformat": 4,
 "nbformat_minor": 5
}
